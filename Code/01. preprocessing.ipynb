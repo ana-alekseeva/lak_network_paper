{
 "cells": [
  {
   "cell_type": "code",
   "execution_count": 1,
   "metadata": {},
   "outputs": [],
   "source": [
    "import pandas as pd\n",
    "import numpy as np\n",
    "from scipy.sparse import csr_matrix\n",
    "import matplotlib.pyplot as plt\n",
    "from pandas.api.types import CategoricalDtype\n",
    "#from sklearn.metrics.pairwise import cosine_similarity\n",
    "import logging\n",
    "logging.getLogger('matplotlib.font_manager').disabled = True\n",
    "from tueplots import bundles\n",
    "\n",
    "plt.rcParams.update(bundles.beamer_moml())\n",
    "plt.rcParams.update({'figure.dpi': 200})\n",
    "\n",
    "%matplotlib inline\n",
    "\n",
    "from utils import *"
   ]
  },
  {
   "cell_type": "code",
   "execution_count": 2,
   "metadata": {},
   "outputs": [],
   "source": [
    "def print_shape(df):\n",
    "    print(f\"# of observations: {df.shape[0]}\") \n",
    "    print(f\"# of unique mellon_ids: {len(df.mellon_id.unique())}\")"
   ]
  },
  {
   "cell_type": "markdown",
   "metadata": {},
   "source": [
    "# 1. Term Data "
   ]
  },
  {
   "cell_type": "code",
   "execution_count": 3,
   "metadata": {},
   "outputs": [
    {
     "name": "stderr",
     "output_type": "stream",
     "text": [
      "C:\\Users\\aAlekseeva\\AppData\\Local\\Temp\\4\\ipykernel_31008\\1824453959.py:1: DtypeWarning: Columns (2,4,7,9,10,11,12,18,24,25,27,30,33,34,38,39,40,41,42,45,53,100,105,106,107,108,109,110,112,113,114,118,119,120,121,123,124,125,129,130,131,132,134,135,136,141,142,144,146,150,152,154,157,159,161,164,166,168,169) have mixed types. Specify dtype option on import or set low_memory=False.\n",
      "  df2 = pd.read_csv(\"../Data/Student_Term_20220708.csv\", encoding = \"ISO-8859-1\")\n"
     ]
    },
    {
     "name": "stdout",
     "output_type": "stream",
     "text": [
      "# of observations: 1161671\n",
      "# of unique mellon_ids: 140054\n"
     ]
    }
   ],
   "source": [
    "df2 = pd.read_csv(\"../Data/Student_Term_20220708.csv\", encoding = \"ISO-8859-1\")\n",
    "df2.rename(columns={\"#mellon_id\": \"mellon_id\" }, inplace = True)\n",
    "df2 = df2.sort_values([\"mellon_id\",\"term_code\"],ascending=True)\n",
    "print_shape(df2)\n"
   ]
  },
  {
   "cell_type": "code",
   "execution_count": 5,
   "metadata": {},
   "outputs": [
    {
     "data": {
      "image/png": "[encoded data removed]",
      "text/plain": [
       "<Figure size 2400x400 with 3 Axes>"
      ]
     },
     "metadata": {},
     "output_type": "display_data"
    }
   ],
   "source": [
    "# We want to use only 2016 cohort. And we want to know students from which cohorts studied together with 2016 cohort.\n",
    "terms = [201692,201703,201714]\n",
    "\n",
    "fig, ax = plt.subplots(1,3, figsize=(12, 2))\n",
    "\n",
    "for i,term in enumerate(terms):\n",
    "    # pick the mellon_ids that studied in the first term in 2016-2017 academic year.\n",
    "    stud_ids = df2.loc[df2[\"term_code\"] == term,\"mellon_id\"].unique()\n",
    "    # pick the terms in which the selected students studied\n",
    "    term_ids = df2.loc[df2[\"mellon_id\"].isin(stud_ids),\"term_code\"]\n",
    "    ax[i].hist(term_ids)"
   ]
  },
  {
   "cell_type": "code",
   "execution_count": 6,
   "metadata": {},
   "outputs": [
    {
     "name": "stdout",
     "output_type": "stream",
     "text": [
      "# of observations: 1161671\n",
      "# of unique mellon_ids: 140054\n"
     ]
    },
    {
     "data": {
      "text/plain": [
       "major_change\n",
       "0.0    1073689\n",
       "1.0      40349\n",
       "Name: count, dtype: int64"
      ]
     },
     "execution_count": 6,
     "metadata": {},
     "output_type": "execute_result"
    }
   ],
   "source": [
    "# Delete all missing values from the first major\n",
    "df2[\"major_name_1\"] = df2[\"major_name_1\"].fillna(\"undeclared\")\n",
    "df2[\"major_stem_1\"] = df2[\"major_stem_1\"].replace({\"0\":0,\"1\":1,\" \":np.nan})\n",
    "print_shape(df2)\n",
    "\n",
    "# Keep only non-summer terms.\n",
    "df2 = df2.loc[df2[\"term_code\"].astype(str).str.endswith((\"92\",\"03\",\"14\"))]\n",
    "\n",
    "# There are many categories to describe unaffiliated and undeclared majors. They are changed to the category \"undeclared\".\n",
    "major_undeclared = [\"Undeclared\",\"Unaffiliated\",\"Unknown\",'Educ Undeclared','Educ Unaffiliated','Arts Undeclared','Public Hlth Unaffil','Human Unaffiliated','I&C Sci Unaffiliated','Soc Sci Unaffiliated','Arts Unaffiliated','Phy Sci Undeclared','Unaffil Undeclared','Socecol Unaffiliated','Educ Unafilliated']\n",
    "df2[\"major_name_1\"] = [\"undeclared\" if i in major_undeclared else i for i in df2[\"major_name_1\"]] \n",
    "df2[\"major_declared\"] = [0 if i == \"undeclared\" else 1 for i in df2[\"major_name_1\"]] \n",
    "# Create a major_change variable that indicates whether a previous term was different from the current term. \n",
    "# If the previous term was undeclared, then the next term cannot be considered major change.\n",
    "grouped = df2.loc[:,[\"mellon_id\",\"term_code\",\"major_name_1\",\"major_declared\"]].groupby([\"mellon_id\"])\n",
    "df2[\"major_change\"] = grouped[\"major_name_1\"].transform(lambda g: [0] + list(1*(~g.eq(g.shift()))[1:] ))\n",
    "df2[\"major_declared\"] = grouped[\"major_declared\"].transform(lambda g: [0] + list(g.shift())[1:] )\n",
    "df2[\"major_change\"] = df2[\"major_change\"] * df2[\"major_declared\"]\n",
    "df2.drop(\"major_declared\", axis=1,inplace=True)\n",
    "\n",
    "df2[\"major_change\"].value_counts()"
   ]
  },
  {
   "cell_type": "code",
   "execution_count": 7,
   "metadata": {},
   "outputs": [
    {
     "data": {
      "text/html": [
       "<div>\n",
       "<style scoped>\n",
       "    .dataframe tbody tr th:only-of-type {\n",
       "        vertical-align: middle;\n",
       "    }\n",
       "\n",
       "    .dataframe tbody tr th {\n",
       "        vertical-align: top;\n",
       "    }\n",
       "\n",
       "    .dataframe thead th {\n",
       "        text-align: right;\n",
       "    }\n",
       "</style>\n",
       "<table border=\"1\" class=\"dataframe\">\n",
       "  <thead>\n",
       "    <tr style=\"text-align: right;\">\n",
       "      <th></th>\n",
       "      <th>mellon_id</th>\n",
       "      <th>group_a</th>\n",
       "      <th>mellon_enr_dt_a</th>\n",
       "      <th>group_b</th>\n",
       "      <th>mellon_enr_dt_b</th>\n",
       "      <th>term_code</th>\n",
       "      <th>term_desc</th>\n",
       "      <th>term_part_code</th>\n",
       "      <th>term_part_desc</th>\n",
       "      <th>enrollment_open_date</th>\n",
       "      <th>...</th>\n",
       "      <th>pell_grant_received</th>\n",
       "      <th>major_minor</th>\n",
       "      <th>Current_Ind</th>\n",
       "      <th>MD5</th>\n",
       "      <th>Effective_Date</th>\n",
       "      <th>End_Effective_Date</th>\n",
       "      <th>MAPPING_NM</th>\n",
       "      <th>CREATED_DTTM</th>\n",
       "      <th>major_change</th>\n",
       "      <th>year</th>\n",
       "    </tr>\n",
       "  </thead>\n",
       "  <tbody>\n",
       "    <tr>\n",
       "      <th>0</th>\n",
       "      <td>162766</td>\n",
       "      <td>1.0</td>\n",
       "      <td>09/01/2019 00:00:00.000</td>\n",
       "      <td>0.0</td>\n",
       "      <td>NaN</td>\n",
       "      <td>201992</td>\n",
       "      <td>Fall 2019</td>\n",
       "      <td>92</td>\n",
       "      <td>Fall</td>\n",
       "      <td>NaN</td>\n",
       "      <td>...</td>\n",
       "      <td>NaN</td>\n",
       "      <td>NaN</td>\n",
       "      <td>NaN</td>\n",
       "      <td>NaN</td>\n",
       "      <td>NaN</td>\n",
       "      <td>NaN</td>\n",
       "      <td>NaN</td>\n",
       "      <td>04/09/2022 09:08:26.000</td>\n",
       "      <td>0.0</td>\n",
       "      <td>2019</td>\n",
       "    </tr>\n",
       "    <tr>\n",
       "      <th>1</th>\n",
       "      <td>162766</td>\n",
       "      <td>1.0</td>\n",
       "      <td>09/01/2019 00:00:00.000</td>\n",
       "      <td>0.0</td>\n",
       "      <td>NaN</td>\n",
       "      <td>202003</td>\n",
       "      <td>Winter 2020</td>\n",
       "      <td>3</td>\n",
       "      <td>Winter</td>\n",
       "      <td>NaN</td>\n",
       "      <td>...</td>\n",
       "      <td>NaN</td>\n",
       "      <td>NaN</td>\n",
       "      <td>NaN</td>\n",
       "      <td>NaN</td>\n",
       "      <td>NaN</td>\n",
       "      <td>NaN</td>\n",
       "      <td>NaN</td>\n",
       "      <td>04/09/2022 09:08:26.000</td>\n",
       "      <td>0.0</td>\n",
       "      <td>2019</td>\n",
       "    </tr>\n",
       "    <tr>\n",
       "      <th>2</th>\n",
       "      <td>162766</td>\n",
       "      <td>1.0</td>\n",
       "      <td>09/01/2019 00:00:00.000</td>\n",
       "      <td>0.0</td>\n",
       "      <td>NaN</td>\n",
       "      <td>202014</td>\n",
       "      <td>Spring 2020</td>\n",
       "      <td>14</td>\n",
       "      <td>Spring</td>\n",
       "      <td>NaN</td>\n",
       "      <td>...</td>\n",
       "      <td>NaN</td>\n",
       "      <td>NaN</td>\n",
       "      <td>NaN</td>\n",
       "      <td>NaN</td>\n",
       "      <td>NaN</td>\n",
       "      <td>NaN</td>\n",
       "      <td>NaN</td>\n",
       "      <td>04/09/2022 09:08:26.000</td>\n",
       "      <td>0.0</td>\n",
       "      <td>2019</td>\n",
       "    </tr>\n",
       "    <tr>\n",
       "      <th>4</th>\n",
       "      <td>162766</td>\n",
       "      <td>1.0</td>\n",
       "      <td>09/01/2019 00:00:00.000</td>\n",
       "      <td>0.0</td>\n",
       "      <td>NaN</td>\n",
       "      <td>202092</td>\n",
       "      <td>Fall 2020</td>\n",
       "      <td>92</td>\n",
       "      <td>Fall</td>\n",
       "      <td>NaN</td>\n",
       "      <td>...</td>\n",
       "      <td>NaN</td>\n",
       "      <td>NaN</td>\n",
       "      <td>NaN</td>\n",
       "      <td>NaN</td>\n",
       "      <td>NaN</td>\n",
       "      <td>NaN</td>\n",
       "      <td>NaN</td>\n",
       "      <td>04/08/2022 12:20:39.000</td>\n",
       "      <td>0.0</td>\n",
       "      <td>2020</td>\n",
       "    </tr>\n",
       "    <tr>\n",
       "      <th>5</th>\n",
       "      <td>162766</td>\n",
       "      <td>1.0</td>\n",
       "      <td>09/01/2019 00:00:00.000</td>\n",
       "      <td>0.0</td>\n",
       "      <td>NaN</td>\n",
       "      <td>202103</td>\n",
       "      <td>Winter 2021</td>\n",
       "      <td>3</td>\n",
       "      <td>Winter</td>\n",
       "      <td>NaN</td>\n",
       "      <td>...</td>\n",
       "      <td>NaN</td>\n",
       "      <td>NaN</td>\n",
       "      <td>NaN</td>\n",
       "      <td>NaN</td>\n",
       "      <td>NaN</td>\n",
       "      <td>NaN</td>\n",
       "      <td>NaN</td>\n",
       "      <td>04/08/2022 12:20:39.000</td>\n",
       "      <td>0.0</td>\n",
       "      <td>2020</td>\n",
       "    </tr>\n",
       "  </tbody>\n",
       "</table>\n",
       "<p>5 rows × 180 columns</p>\n",
       "</div>"
      ],
      "text/plain": [
       "   mellon_id  group_a          mellon_enr_dt_a  group_b mellon_enr_dt_b  \\\n",
       "0     162766      1.0  09/01/2019 00:00:00.000      0.0             NaN   \n",
       "1     162766      1.0  09/01/2019 00:00:00.000      0.0             NaN   \n",
       "2     162766      1.0  09/01/2019 00:00:00.000      0.0             NaN   \n",
       "4     162766      1.0  09/01/2019 00:00:00.000      0.0             NaN   \n",
       "5     162766      1.0  09/01/2019 00:00:00.000      0.0             NaN   \n",
       "\n",
       "   term_code    term_desc term_part_code term_part_desc enrollment_open_date  \\\n",
       "0     201992    Fall 2019             92           Fall                  NaN   \n",
       "1     202003  Winter 2020              3         Winter                  NaN   \n",
       "2     202014  Spring 2020             14         Spring                  NaN   \n",
       "4     202092    Fall 2020             92           Fall                  NaN   \n",
       "5     202103  Winter 2021              3         Winter                  NaN   \n",
       "\n",
       "   ... pell_grant_received major_minor Current_Ind MD5  Effective_Date  \\\n",
       "0  ...                 NaN         NaN         NaN NaN             NaN   \n",
       "1  ...                 NaN         NaN         NaN NaN             NaN   \n",
       "2  ...                 NaN         NaN         NaN NaN             NaN   \n",
       "4  ...                 NaN         NaN         NaN NaN             NaN   \n",
       "5  ...                 NaN         NaN         NaN NaN             NaN   \n",
       "\n",
       "  End_Effective_Date MAPPING_NM             CREATED_DTTM major_change  year  \n",
       "0                NaN        NaN  04/09/2022 09:08:26.000          0.0  2019  \n",
       "1                NaN        NaN  04/09/2022 09:08:26.000          0.0  2019  \n",
       "2                NaN        NaN  04/09/2022 09:08:26.000          0.0  2019  \n",
       "4                NaN        NaN  04/08/2022 12:20:39.000          0.0  2020  \n",
       "5                NaN        NaN  04/08/2022 12:20:39.000          0.0  2020  \n",
       "\n",
       "[5 rows x 180 columns]"
      ]
     },
     "execution_count": 7,
     "metadata": {},
     "output_type": "execute_result"
    }
   ],
   "source": [
    "# Create a variable that indicates a cohort. If term_code == 201692 or 201703 or 201714, then year = 2016.\n",
    "df2[\"year\"] = [int(term_code[:-2]) if term_code[-2:] ==\"92\" else int(term_code[:-2])-1 for term_code in df2[\"term_code\"].astype(str)]\n",
    "df2.head()"
   ]
  },
  {
   "cell_type": "code",
   "execution_count": 9,
   "metadata": {},
   "outputs": [
    {
     "data": {
      "text/html": [
       "<div>\n",
       "<style scoped>\n",
       "    .dataframe tbody tr th:only-of-type {\n",
       "        vertical-align: middle;\n",
       "    }\n",
       "\n",
       "    .dataframe tbody tr th {\n",
       "        vertical-align: top;\n",
       "    }\n",
       "\n",
       "    .dataframe thead th {\n",
       "        text-align: right;\n",
       "    }\n",
       "</style>\n",
       "<table border=\"1\" class=\"dataframe\">\n",
       "  <thead>\n",
       "    <tr style=\"text-align: right;\">\n",
       "      <th></th>\n",
       "      <th>mellon_id</th>\n",
       "      <th>first_term</th>\n",
       "      <th>last_term</th>\n",
       "      <th>total_num_terms</th>\n",
       "      <th>last_gpa_cum</th>\n",
       "      <th>graduated</th>\n",
       "    </tr>\n",
       "  </thead>\n",
       "  <tbody>\n",
       "    <tr>\n",
       "      <th>0</th>\n",
       "      <td>162766</td>\n",
       "      <td>201992</td>\n",
       "      <td>202292</td>\n",
       "      <td>10</td>\n",
       "      <td>3.78</td>\n",
       "      <td>0</td>\n",
       "    </tr>\n",
       "    <tr>\n",
       "      <th>1</th>\n",
       "      <td>162767</td>\n",
       "      <td>201892</td>\n",
       "      <td>202214</td>\n",
       "      <td>12</td>\n",
       "      <td>3.60</td>\n",
       "      <td>0</td>\n",
       "    </tr>\n",
       "    <tr>\n",
       "      <th>2</th>\n",
       "      <td>162768</td>\n",
       "      <td>201992</td>\n",
       "      <td>202114</td>\n",
       "      <td>6</td>\n",
       "      <td>3.41</td>\n",
       "      <td>0</td>\n",
       "    </tr>\n",
       "    <tr>\n",
       "      <th>3</th>\n",
       "      <td>162769</td>\n",
       "      <td>201992</td>\n",
       "      <td>202292</td>\n",
       "      <td>10</td>\n",
       "      <td>2.76</td>\n",
       "      <td>0</td>\n",
       "    </tr>\n",
       "    <tr>\n",
       "      <th>4</th>\n",
       "      <td>162770</td>\n",
       "      <td>201592</td>\n",
       "      <td>201903</td>\n",
       "      <td>11</td>\n",
       "      <td>3.36</td>\n",
       "      <td>1</td>\n",
       "    </tr>\n",
       "  </tbody>\n",
       "</table>\n",
       "</div>"
      ],
      "text/plain": [
       "   mellon_id  first_term  last_term  total_num_terms  last_gpa_cum  graduated\n",
       "0     162766      201992     202292               10          3.78          0\n",
       "1     162767      201892     202214               12          3.60          0\n",
       "2     162768      201992     202114                6          3.41          0\n",
       "3     162769      201992     202292               10          2.76          0\n",
       "4     162770      201592     201903               11          3.36          1"
      ]
     },
     "execution_count": 9,
     "metadata": {},
     "output_type": "execute_result"
    }
   ],
   "source": [
    "df2 = df2.sort_values([\"mellon_id\",\"term_code\"]).reset_index(drop=True)\n",
    "df2_info = (\n",
    "            df2.loc[:,[\"mellon_id\",\"term_code\",\"gpa_cumulative\",\"major_graduated_1\"]]\n",
    "            .groupby(\"mellon_id\")\n",
    "            .agg({\"term_code\": [\"last\",\"min\",\"max\",\"count\"],\n",
    "                  \"gpa_cumulative\":\"last\",\n",
    "                  \"major_graduated_1\":\"last\"})\n",
    "            .reset_index()\n",
    "            )\n",
    "\n",
    "df2_info.columns = [\"mellon_id\",\"last_term_code\",\"first_term\",\"last_term\",\"total_num_terms\",\n",
    "                    \"last_gpa_cum\",\"graduated\"]\n",
    "assert(sum(df2_info[\"last_term_code\"] != df2_info[\"last_term\"])==0)\n",
    "df2_info = df2_info.drop(\"last_term_code\",axis=1)\n",
    "\n",
    "# The definition of graduated needs to be reconsidered\n",
    "df2_info[\"graduated\"] = df2_info[\"graduated\"].fillna(0)\n",
    "df2_info[\"graduated\"] = [1 if i!=0 else i for i in df2_info[\"graduated\"]] \n",
    "\n",
    "#df2_info = df2_info.drop(\"term_code\",axis=1)\n",
    "\n",
    "df2_info.head()"
   ]
  },
  {
   "cell_type": "code",
   "execution_count": 10,
   "metadata": {},
   "outputs": [
    {
     "name": "stdout",
     "output_type": "stream",
     "text": [
      "# of observations: 1114038\n",
      "# of unique mellon_ids: 137402\n"
     ]
    }
   ],
   "source": [
    "print_shape(df2)"
   ]
  },
  {
   "cell_type": "code",
   "execution_count": 11,
   "metadata": {},
   "outputs": [
    {
     "data": {
      "text/plain": [
       "(137402, 6)"
      ]
     },
     "execution_count": 11,
     "metadata": {},
     "output_type": "execute_result"
    }
   ],
   "source": [
    "df2_info.shape"
   ]
  },
  {
   "cell_type": "code",
   "execution_count": 12,
   "metadata": {},
   "outputs": [
    {
     "data": {
      "text/plain": [
       "<Axes: >"
      ]
     },
     "execution_count": 12,
     "metadata": {},
     "output_type": "execute_result"
    },
    {
     "data": {
      "image/png": "[encoded data removed]",
      "text/plain": [
       "<Figure size 1102.36x496.063 with 1 Axes>"
      ]
     },
     "metadata": {},
     "output_type": "display_data"
    }
   ],
   "source": [
    "grad = df2_info[df2_info[\"graduated\"]==1]\n",
    "grad[\"total_num_terms\"].hist(bins=20)"
   ]
  },
  {
   "cell_type": "code",
   "execution_count": 13,
   "metadata": {},
   "outputs": [
    {
     "data": {
      "text/html": [
       "<div>\n",
       "<style scoped>\n",
       "    .dataframe tbody tr th:only-of-type {\n",
       "        vertical-align: middle;\n",
       "    }\n",
       "\n",
       "    .dataframe tbody tr th {\n",
       "        vertical-align: top;\n",
       "    }\n",
       "\n",
       "    .dataframe thead th {\n",
       "        text-align: right;\n",
       "    }\n",
       "</style>\n",
       "<table border=\"1\" class=\"dataframe\">\n",
       "  <thead>\n",
       "    <tr style=\"text-align: right;\">\n",
       "      <th></th>\n",
       "      <th>mellon_id</th>\n",
       "      <th>first_term</th>\n",
       "      <th>last_term</th>\n",
       "      <th>total_num_terms</th>\n",
       "      <th>last_gpa_cum</th>\n",
       "      <th>graduated</th>\n",
       "      <th>major_change</th>\n",
       "    </tr>\n",
       "  </thead>\n",
       "  <tbody>\n",
       "    <tr>\n",
       "      <th>0</th>\n",
       "      <td>162766</td>\n",
       "      <td>201992</td>\n",
       "      <td>202292</td>\n",
       "      <td>10</td>\n",
       "      <td>3.78</td>\n",
       "      <td>0</td>\n",
       "      <td>0</td>\n",
       "    </tr>\n",
       "    <tr>\n",
       "      <th>1</th>\n",
       "      <td>162767</td>\n",
       "      <td>201892</td>\n",
       "      <td>202214</td>\n",
       "      <td>12</td>\n",
       "      <td>3.60</td>\n",
       "      <td>0</td>\n",
       "      <td>0</td>\n",
       "    </tr>\n",
       "    <tr>\n",
       "      <th>2</th>\n",
       "      <td>162768</td>\n",
       "      <td>201992</td>\n",
       "      <td>202114</td>\n",
       "      <td>6</td>\n",
       "      <td>3.41</td>\n",
       "      <td>0</td>\n",
       "      <td>0</td>\n",
       "    </tr>\n",
       "    <tr>\n",
       "      <th>3</th>\n",
       "      <td>162769</td>\n",
       "      <td>201992</td>\n",
       "      <td>202292</td>\n",
       "      <td>10</td>\n",
       "      <td>2.76</td>\n",
       "      <td>0</td>\n",
       "      <td>0</td>\n",
       "    </tr>\n",
       "    <tr>\n",
       "      <th>4</th>\n",
       "      <td>162770</td>\n",
       "      <td>201592</td>\n",
       "      <td>201903</td>\n",
       "      <td>11</td>\n",
       "      <td>3.36</td>\n",
       "      <td>1</td>\n",
       "      <td>0</td>\n",
       "    </tr>\n",
       "  </tbody>\n",
       "</table>\n",
       "</div>"
      ],
      "text/plain": [
       "   mellon_id  first_term  last_term  total_num_terms  last_gpa_cum  graduated  \\\n",
       "0     162766      201992     202292               10          3.78          0   \n",
       "1     162767      201892     202214               12          3.60          0   \n",
       "2     162768      201992     202114                6          3.41          0   \n",
       "3     162769      201992     202292               10          2.76          0   \n",
       "4     162770      201592     201903               11          3.36          1   \n",
       "\n",
       "   major_change  \n",
       "0             0  \n",
       "1             0  \n",
       "2             0  \n",
       "3             0  \n",
       "4             0  "
      ]
     },
     "execution_count": 13,
     "metadata": {},
     "output_type": "execute_result"
    }
   ],
   "source": [
    "transferred = df2.groupby(\"mellon_id\")[[\"major_change\"]].sum().reset_index()\n",
    "transferred[\"major_change\"] = 1*(transferred[\"major_change\"]>0)\n",
    "df2_info = df2_info.merge(transferred,how=\"left\",on=\"mellon_id\")\n",
    "df2_info.head()"
   ]
  },
  {
   "cell_type": "code",
   "execution_count": 14,
   "metadata": {},
   "outputs": [],
   "source": [
    "df2_info.to_pickle(\"../Data/for_network/df2_info.pkl\")"
   ]
  },
  {
   "cell_type": "code",
   "execution_count": 15,
   "metadata": {},
   "outputs": [],
   "source": [
    "df2[\"US_citizen\"] = [1 if i==\"US Citizen\" else i for i in df2[\"citizenship\"]]\n",
    "df2[\"US_citizen\"] = [0 if i!=1 and (i==i) else i for i in df2[\"US_citizen\"]]\n",
    "\n",
    "df2 = df2.loc[:,[\n",
    "                \"mellon_id\",\n",
    "                \"term_code\",\n",
    "                \"major_change\",\n",
    "                \"gpa_term\",\n",
    "                \"gpa_cumulative\",\n",
    "                \"major_stem_1\",\n",
    "                \"major_name_1\",\n",
    "                \"major_school_name_1\",\n",
    "                \"US_citizen\",\n",
    "                \"year\"\n",
    "              ]]\n",
    "\n",
    "df2.to_pickle(\"../Data/for_network/df2.pkl\")"
   ]
  },
  {
   "cell_type": "markdown",
   "metadata": {},
   "source": [
    "# 2. Background Data"
   ]
  },
  {
   "cell_type": "code",
   "execution_count": 16,
   "metadata": {},
   "outputs": [
    {
     "name": "stderr",
     "output_type": "stream",
     "text": [
      "C:\\Users\\aAlekseeva\\AppData\\Local\\Temp\\4\\ipykernel_31008\\1642832202.py:1: DtypeWarning: Columns (84,85,86,87,88,89) have mixed types. Specify dtype option on import or set low_memory=False.\n",
      "  demo = pd.read_csv(\"../Data/cleaned_student_background_data(20211110).csv\", encoding = \"ISO-8859-1\")\n"
     ]
    },
    {
     "name": "stdout",
     "output_type": "stream",
     "text": [
      "(101704, 91)\n"
     ]
    },
    {
     "data": {
      "text/plain": [
       "Index(['mellon_id', 'birth_year', 'gender', 'ethnicity', 'ethnicity_detail',\n",
       "       'citizenship_app', 'low_income_desc', 'ell', 'city_residence_app',\n",
       "       'state_residence_app', 'country_residence_app', 'application_status',\n",
       "       'admitdate', 'hs_gpa', 'uc_read_score', 'uc_math_score',\n",
       "       'uc_writing_score', 'uc_total_score', 'grad_major_1',\n",
       "       'grad_major_1_desc', 'female'],\n",
       "      dtype='object')"
      ]
     },
     "execution_count": 16,
     "metadata": {},
     "output_type": "execute_result"
    }
   ],
   "source": [
    "demo = pd.read_csv(\"../Data/cleaned_student_background_data(20211110).csv\", encoding = \"ISO-8859-1\")\n",
    "print(demo.shape)\n",
    "# Delete the columns with more than a half of missing values\n",
    "demo = demo.loc[:,demo.isnull().mean(axis=0) < 0.5]\n",
    "demo = demo.loc[:,[col for col in demo.columns if not col.startswith(\"ap_\")]]\n",
    "demo.columns"
   ]
  },
  {
   "cell_type": "code",
   "execution_count": 54,
   "metadata": {},
   "outputs": [
    {
     "data": {
      "text/plain": [
       "application_status\n",
       "Freshmen     6456\n",
       "Transfer     2691\n",
       "Junior        239\n",
       "Senior        148\n",
       "Sophomore      84\n",
       "Limited        34\n",
       "2nd Bacc       18\n",
       "Name: count, dtype: int64"
      ]
     },
     "execution_count": 54,
     "metadata": {},
     "output_type": "execute_result"
    }
   ],
   "source": [
    "demo.loc[demo[\"admitdate\"]==\"F17\",\"application_status\"].value_counts()"
   ]
  },
  {
   "cell_type": "code",
   "execution_count": 49,
   "metadata": {},
   "outputs": [
    {
     "data": {
      "text/plain": [
       "application_status\n",
       "Freshmen     64262\n",
       "Transfer     14966\n",
       "Junior        9145\n",
       "Sophomore     6953\n",
       "Senior        1772\n",
       "Limited        605\n",
       "2nd Bacc        69\n",
       "Name: count, dtype: int64"
      ]
     },
     "execution_count": 49,
     "metadata": {},
     "output_type": "execute_result"
    }
   ],
   "source": [
    "demo[\"application_status\"].value_counts()"
   ]
  },
  {
   "cell_type": "code",
   "execution_count": null,
   "metadata": {},
   "outputs": [],
   "source": [
    "print(demo.shape)\n",
    "demo_vars = [\"female\",\"low_income_desc\",\"hs_gpa\",\"uc_total_score\",\"ethnicity\"]\n",
    "print(\"\\nNumber of missing values (all cohorts):\")\n",
    "for var in demo_vars:\n",
    "    print(f\"{var}: {demo.shape[0]-demo.dropna(subset=[var]).shape[0]}\")\n",
    "\n",
    "freshmen_2016_ids = df2.loc[(df2.year_study==\"Freshman\") & (df2.term_code == 201692)][\"mellon_id\"].unique()\n",
    "demo_2016 = demo.loc[demo[\"mellon_id\"].isin(freshmen_2016_ids)]\n",
    "print(\"\")\n",
    "print(demo_2016.shape)\n",
    "print(\"\\nNumber of missing values (2016 cohort):\")\n",
    "for var in demo_vars:\n",
    "    print(f\"{var}: {demo_2016.shape[0]-demo_2016.dropna(subset=[var]).shape[0]}\")"
   ]
  },
  {
   "cell_type": "code",
   "execution_count": 17,
   "metadata": {},
   "outputs": [
    {
     "name": "stdout",
     "output_type": "stream",
     "text": [
      "(101704, 22)\n"
     ]
    }
   ],
   "source": [
    "demo[\"URM\"] = [0 if ((val == 'Asian / Asian American') or (val == 'White non-Hispanic')) else val for val in demo[\"ethnicity\"]]\n",
    "demo[\"URM\"] = [1 if ((val==val) and (val!=0)) else val for val in demo[\"URM\"]]\n",
    "demo[\"low_income_desc\"] = [1 if i =='Low income' else i for i in demo[\"low_income_desc\"]]\n",
    "demo[\"low_income_desc\"] = [0 if (i==i) and (i!=1) else i for i in demo[\"low_income_desc\"]]\n",
    "demo_vars = [\"female\",\"low_income_desc\",\"hs_gpa\",\"URM\"]\n",
    "print(demo.shape)"
   ]
  },
  {
   "cell_type": "code",
   "execution_count": 18,
   "metadata": {},
   "outputs": [],
   "source": [
    "demo = demo.loc[:,[\n",
    "                \"mellon_id\",\n",
    "                \"female\",\n",
    "                \"low_income_desc\",\n",
    "                \"hs_gpa\",\n",
    "                \"uc_total_score\",\n",
    "                \"URM\",\n",
    "                \"admitdate\",\n",
    "                \"application_status\"\n",
    "              ]]\n",
    "\n",
    "demo.to_pickle(\"../Data/for_network/demo.pkl\")"
   ]
  },
  {
   "cell_type": "markdown",
   "metadata": {},
   "source": [
    "# 3. Course Data"
   ]
  },
  {
   "cell_type": "code",
   "execution_count": 30,
   "metadata": {},
   "outputs": [
    {
     "data": {
      "text/plain": [
       "(6487194, 20)"
      ]
     },
     "execution_count": 30,
     "metadata": {},
     "output_type": "execute_result"
    }
   ],
   "source": [
    "df1 =pd.read_csv(\"../Data/cleaned_student_term_course_section(20211021).csv\",low_memory=False)\n",
    "df1.shape"
   ]
  },
  {
   "cell_type": "code",
   "execution_count": 3,
   "metadata": {},
   "outputs": [
    {
     "data": {
      "text/plain": [
       "(6487183, 18)"
      ]
     },
     "execution_count": 3,
     "metadata": {},
     "output_type": "execute_result"
    }
   ],
   "source": [
    "# Create a unique course indicator (course_id)\n",
    "df1[\"term_code\"], df1[\"course_code\"], df1[\"course_section_num\"] = df1[\"term_code\"].astype(str), df1[\"course_code\"].astype(str), df1[\"course_section_num\"].astype(str)\n",
    "df1[\"course_id\"] = df1[\"term_code\"]+\"_\"+df1[\"course_code\"]+\"_\"+df1[\"course_dept_code_and_num\"]+\"_\"+df1[\"course_section_num\"]\n",
    "df1[\"term_code\"] = df1[\"term_code\"].astype(int)\n",
    "\n",
    "df1 = df1.dropna(axis=1,how=\"all\") # drop empty columns\n",
    "df1 = df1.loc[df1[\"term_code\"].astype(str).str.endswith((\"92\",\"03\",\"14\"))]\n",
    "df1 = df1.reset_index(drop=True)\n",
    "df1.shape"
   ]
  },
  {
   "cell_type": "code",
   "execution_count": 4,
   "metadata": {},
   "outputs": [
    {
     "data": {
      "text/plain": [
       "Index(['mellon_id', 'term_code', 'term_desc', 'course_code', 'course_title',\n",
       "       'course_dept_code_and_num', 'course_section_num', 'school_code',\n",
       "       'dept_code', 'course_level', 'course_type', 'honors_course',\n",
       "       'online_course', 'credit_code', 'repeat_code', 'units_completed',\n",
       "       'final_grade', 'course_id'],\n",
       "      dtype='object')"
      ]
     },
     "execution_count": 4,
     "metadata": {},
     "output_type": "execute_result"
    }
   ],
   "source": [
    "df1.columns"
   ]
  },
  {
   "cell_type": "code",
   "execution_count": 5,
   "metadata": {},
   "outputs": [
    {
     "data": {
      "text/plain": [
       "(5570540, 18)"
      ]
     },
     "execution_count": 5,
     "metadata": {},
     "output_type": "execute_result"
    }
   ],
   "source": [
    "# Only passed courses\n",
    "df1 = df1.loc[~(df1[\"final_grade\"].isnull() | df1[\"final_grade\"].isin([\"F\",\"I\",\"IP\",\" \",\"UR\",\"W\",\"U\",\"NP\",\"NR\"]) )] \n",
    "df1.shape"
   ]
  },
  {
   "cell_type": "code",
   "execution_count": 6,
   "metadata": {},
   "outputs": [
    {
     "data": {
      "text/html": [
       "<div>\n",
       "<style scoped>\n",
       "    .dataframe tbody tr th:only-of-type {\n",
       "        vertical-align: middle;\n",
       "    }\n",
       "\n",
       "    .dataframe tbody tr th {\n",
       "        vertical-align: top;\n",
       "    }\n",
       "\n",
       "    .dataframe thead th {\n",
       "        text-align: right;\n",
       "    }\n",
       "</style>\n",
       "<table border=\"1\" class=\"dataframe\">\n",
       "  <thead>\n",
       "    <tr style=\"text-align: right;\">\n",
       "      <th></th>\n",
       "      <th>mellon_id</th>\n",
       "      <th>term_code</th>\n",
       "      <th>term_desc</th>\n",
       "      <th>course_code</th>\n",
       "      <th>course_title</th>\n",
       "      <th>course_dept_code_and_num</th>\n",
       "      <th>course_section_num</th>\n",
       "      <th>school_code</th>\n",
       "      <th>dept_code</th>\n",
       "      <th>course_level</th>\n",
       "      <th>course_type</th>\n",
       "      <th>honors_course</th>\n",
       "      <th>online_course</th>\n",
       "      <th>credit_code</th>\n",
       "      <th>repeat_code</th>\n",
       "      <th>units_completed</th>\n",
       "      <th>final_grade</th>\n",
       "      <th>course_id</th>\n",
       "      <th>year</th>\n",
       "    </tr>\n",
       "  </thead>\n",
       "  <tbody>\n",
       "    <tr>\n",
       "      <th>0</th>\n",
       "      <td>162766</td>\n",
       "      <td>201992</td>\n",
       "      <td>Fall 2019</td>\n",
       "      <td>20012</td>\n",
       "      <td>ACADEMIC WRITING</td>\n",
       "      <td>ACENG 20A</td>\n",
       "      <td>M</td>\n",
       "      <td>NaN</td>\n",
       "      <td>NaN</td>\n",
       "      <td>NaN</td>\n",
       "      <td>LEC</td>\n",
       "      <td>NaN</td>\n",
       "      <td>NaN</td>\n",
       "      <td>PN</td>\n",
       "      <td>NAT</td>\n",
       "      <td>5.0</td>\n",
       "      <td>P</td>\n",
       "      <td>201992_20012_ACENG 20A_M</td>\n",
       "      <td>2019</td>\n",
       "    </tr>\n",
       "    <tr>\n",
       "      <th>2</th>\n",
       "      <td>162766</td>\n",
       "      <td>201992</td>\n",
       "      <td>Fall 2019</td>\n",
       "      <td>44185</td>\n",
       "      <td>CALCULUS</td>\n",
       "      <td>MATH 2A</td>\n",
       "      <td>H</td>\n",
       "      <td>NaN</td>\n",
       "      <td>NaN</td>\n",
       "      <td>NaN</td>\n",
       "      <td>LEC</td>\n",
       "      <td>NaN</td>\n",
       "      <td>NaN</td>\n",
       "      <td>NAT</td>\n",
       "      <td>NAT</td>\n",
       "      <td>4.0</td>\n",
       "      <td>C</td>\n",
       "      <td>201992_44185_MATH 2A_H</td>\n",
       "      <td>2019</td>\n",
       "    </tr>\n",
       "    <tr>\n",
       "      <th>4</th>\n",
       "      <td>162766</td>\n",
       "      <td>201992</td>\n",
       "      <td>Fall 2019</td>\n",
       "      <td>62075</td>\n",
       "      <td>BASIC ECONOMICS II</td>\n",
       "      <td>ECON 20B</td>\n",
       "      <td>A</td>\n",
       "      <td>NaN</td>\n",
       "      <td>NaN</td>\n",
       "      <td>NaN</td>\n",
       "      <td>LEC</td>\n",
       "      <td>NaN</td>\n",
       "      <td>NaN</td>\n",
       "      <td>NAT</td>\n",
       "      <td>NAT</td>\n",
       "      <td>4.0</td>\n",
       "      <td>B+</td>\n",
       "      <td>201992_62075_ECON 20B_A</td>\n",
       "      <td>2019</td>\n",
       "    </tr>\n",
       "    <tr>\n",
       "      <th>8</th>\n",
       "      <td>162766</td>\n",
       "      <td>202003</td>\n",
       "      <td>Winter 2020</td>\n",
       "      <td>2030</td>\n",
       "      <td>SOCIAL DANCE</td>\n",
       "      <td>DANCE 14</td>\n",
       "      <td>A</td>\n",
       "      <td>NaN</td>\n",
       "      <td>NaN</td>\n",
       "      <td>NaN</td>\n",
       "      <td>STU</td>\n",
       "      <td>NaN</td>\n",
       "      <td>NaN</td>\n",
       "      <td>NaN</td>\n",
       "      <td>NaN</td>\n",
       "      <td>2.0</td>\n",
       "      <td>P</td>\n",
       "      <td>202003_2030_DANCE 14_A</td>\n",
       "      <td>2019</td>\n",
       "    </tr>\n",
       "    <tr>\n",
       "      <th>9</th>\n",
       "      <td>162766</td>\n",
       "      <td>202003</td>\n",
       "      <td>Winter 2020</td>\n",
       "      <td>20026</td>\n",
       "      <td>ACADEMIC WRITING</td>\n",
       "      <td>ACENG 20B</td>\n",
       "      <td>G</td>\n",
       "      <td>NaN</td>\n",
       "      <td>NaN</td>\n",
       "      <td>NaN</td>\n",
       "      <td>LEC</td>\n",
       "      <td>NaN</td>\n",
       "      <td>NaN</td>\n",
       "      <td>NaN</td>\n",
       "      <td>NaN</td>\n",
       "      <td>5.0</td>\n",
       "      <td>P</td>\n",
       "      <td>202003_20026_ACENG 20B_G</td>\n",
       "      <td>2019</td>\n",
       "    </tr>\n",
       "  </tbody>\n",
       "</table>\n",
       "</div>"
      ],
      "text/plain": [
       "   mellon_id  term_code    term_desc course_code        course_title  \\\n",
       "0     162766     201992    Fall 2019       20012    ACADEMIC WRITING   \n",
       "2     162766     201992    Fall 2019       44185            CALCULUS   \n",
       "4     162766     201992    Fall 2019       62075  BASIC ECONOMICS II   \n",
       "8     162766     202003  Winter 2020        2030        SOCIAL DANCE   \n",
       "9     162766     202003  Winter 2020       20026    ACADEMIC WRITING   \n",
       "\n",
       "  course_dept_code_and_num course_section_num school_code dept_code  \\\n",
       "0                ACENG 20A                  M         NaN       NaN   \n",
       "2                  MATH 2A                  H         NaN       NaN   \n",
       "4                 ECON 20B                  A         NaN       NaN   \n",
       "8                 DANCE 14                  A         NaN       NaN   \n",
       "9                ACENG 20B                  G         NaN       NaN   \n",
       "\n",
       "  course_level course_type  honors_course  online_course credit_code  \\\n",
       "0          NaN         LEC            NaN            NaN          PN   \n",
       "2          NaN         LEC            NaN            NaN         NAT   \n",
       "4          NaN         LEC            NaN            NaN         NAT   \n",
       "8          NaN         STU            NaN            NaN         NaN   \n",
       "9          NaN         LEC            NaN            NaN         NaN   \n",
       "\n",
       "  repeat_code  units_completed final_grade                 course_id  year  \n",
       "0         NAT              5.0           P  201992_20012_ACENG 20A_M  2019  \n",
       "2         NAT              4.0           C    201992_44185_MATH 2A_H  2019  \n",
       "4         NAT              4.0          B+   201992_62075_ECON 20B_A  2019  \n",
       "8         NaN              2.0           P    202003_2030_DANCE 14_A  2019  \n",
       "9         NaN              5.0           P  202003_20026_ACENG 20B_G  2019  "
      ]
     },
     "execution_count": 6,
     "metadata": {},
     "output_type": "execute_result"
    }
   ],
   "source": [
    "df1[\"year\"] = [int(term_code[:-2]) if term_code[-2:] ==\"92\" else int(term_code[:-2])-1 for term_code in df1[\"term_code\"].astype(str)]\n",
    "df1.head()"
   ]
  },
  {
   "cell_type": "code",
   "execution_count": 8,
   "metadata": {},
   "outputs": [],
   "source": [
    "df1 = df1.loc[:,[\n",
    "                \"mellon_id\",\n",
    "                \"term_code\",\n",
    "                \"course_id\",\n",
    "                \"year\"\n",
    "              ]]\n",
    "\n",
    "df1.to_pickle(\"../Data/for_network/df1.pkl\")"
   ]
  }
 ],
 "metadata": {
  "kernelspec": {
   "display_name": "SNN_UCI",
   "language": "python",
   "name": "python3"
  },
  "language_info": {
   "codemirror_mode": {
    "name": "ipython",
    "version": 3
   },
   "file_extension": ".py",
   "mimetype": "text/x-python",
   "name": "python",
   "nbconvert_exporter": "python",
   "pygments_lexer": "ipython3",
   "version": "3.10.11"
  }
 },
 "nbformat": 4,
 "nbformat_minor": 2
}
