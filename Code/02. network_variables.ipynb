{
 "cells": [
  {
   "cell_type": "code",
   "execution_count": 1,
   "metadata": {},
   "outputs": [],
   "source": [
    "import pandas as pd\n",
    "import numpy as np\n",
    "from scipy.sparse import csr_matrix\n",
    "from pandas.api.types import CategoricalDtype"
   ]
  },
  {
   "cell_type": "code",
   "execution_count": 2,
   "metadata": {},
   "outputs": [],
   "source": [
    "df1 =pd.read_pickle(\"../Data/for_network/df1.pkl\")"
   ]
  },
  {
   "cell_type": "markdown",
   "metadata": {},
   "source": [
    "# 1. K-nearest neighbours identification"
   ]
  },
  {
   "cell_type": "code",
   "execution_count": 22,
   "metadata": {},
   "outputs": [],
   "source": [
    "def drop_one_student_course(data):\n",
    "    \"\"\"\n",
    "    Drops the courses with only one student that passed the course.\n",
    "    input:\n",
    "    - data (pd.DataFrame): (students x courses) x features for courses\n",
    "    output:\n",
    "    - data (pd.DataFrame): (students x courses) x features for courses\n",
    "    \"\"\"\n",
    "    df = data.loc[:,[\"mellon_id\",\"course_id\"]].copy()\n",
    "    df = df.groupby(\"course_id\")['mellon_id'].apply(list).reset_index()\n",
    "    df.columns = [\"course_id\",\"mellon_id_list\"]\n",
    "    df[\"course_size\"] = df[\"mellon_id_list\"].apply(len)\n",
    "    one_stud_courses = df.loc[df[\"course_size\"]>1,\"course_id\"].to_list()\n",
    "    return data.loc[data[\"course_id\"].isin(one_stud_courses)]\n",
    "\n",
    "def stud_by_course_matrix(df):\n",
    "    \"\"\"\n",
    "    Creates a student by course adjacency matrix\n",
    "    input:\n",
    "    - df (pd.DataFrame): (students x courses) x features for courses\n",
    "    output:\n",
    "    - sparse_matrix (csr_matrix): students x courses\n",
    "    - (list) student ids corresponding to rows in sparse_matrix\n",
    "    - (list) course ids corresponding to columns in sparse_matrix\n",
    "    \"\"\"\n",
    "\n",
    "    student_u = CategoricalDtype(sorted(df[\"mellon_id\"].unique()), ordered=True) \n",
    "    course_u = CategoricalDtype(sorted(df[\"course_id\"].unique()), ordered=True) \n",
    "\n",
    "    row = df[\"mellon_id\"].astype(student_u).cat.codes\n",
    "    col = df[\"course_id\"].astype(course_u).cat.codes\n",
    "    sparse_matrix = csr_matrix((df[\"total\"], (row, col)), shape=(student_u.categories.size, course_u.categories.size))\n",
    "    print(f\"Average number of courses: {sparse_matrix.sum(axis=1).mean() }\")\n",
    "    print(f\"Shape of Adjacency matrix: {sparse_matrix.shape}\")\n",
    "    return sparse_matrix, student_u.categories.to_list(), course_u.categories.to_list()\n",
    "\n",
    "\n",
    "def generate_knn_year(data,knn_lst,years):\n",
    "    \"\"\"\n",
    "    Creates dataframe with k nearest neighbors by year\n",
    "    input:\n",
    "    - data (pd.DataFrame): (students x courses) x features for courses\n",
    "    - knn_lst (list): a list of ks\n",
    "    - years (list): a list of years\n",
    "    output:\n",
    "    - (pd.DataFrame): (students x years) x knns\n",
    "    \"\"\"\n",
    "    data = data.copy()\n",
    "    data = drop_one_student_course(data)\n",
    "    data[\"total\"] = 1\n",
    "\n",
    "    year_dfs = []\n",
    "    for year in years:\n",
    "        print(year)\n",
    "        adj_year,stud_ids,course_ids = stud_by_course_matrix(data.loc[data[\"year\"]==year])\n",
    "        stud_ids = np.array(stud_ids)\n",
    "        # student by student matrix\n",
    "        adj_stud = (adj_year @ adj_year.T).A\n",
    "        del adj_year\n",
    "        np.fill_diagonal(adj_stud,0)\n",
    "        adj_stud_sorted = adj_stud.argsort(axis=1)\n",
    "        \n",
    "        # The loop saves student ids of k neighbors in dataframe for each year and k\n",
    "        df_year = pd.DataFrame({\"year\":int(year),\"mellon_id\":stud_ids})\n",
    "        for k in knn_lst:\n",
    "            k_ids = adj_stud_sorted[:,-k:]\n",
    "            k_stud_ids = stud_ids[k_ids]\n",
    "            df_year[\"year_nn_\"+str(k)] = np.where(np.take_along_axis(adj_stud, k_ids, axis=1) > 0,k_stud_ids,0).tolist()\n",
    "\n",
    "        year_dfs.append(df_year)\n",
    "        del adj_stud_sorted\n",
    "    return pd.concat(year_dfs,axis=0).reset_index(drop=True)\n",
    "\n",
    "def generate_knn_term(data,knn_lst,terms):\n",
    "    \"\"\"\n",
    "    Creates dataframe with k nearest neighbors by term\n",
    "    input:\n",
    "    - data (pd.DataFrame): (students x courses) x features for courses\n",
    "    - knn_lst (list): a list of ks\n",
    "    - terms (list): a list of terms\n",
    "    output:\n",
    "    - (pd.DataFrame): (students x terms) x knns\n",
    "    \"\"\"\n",
    "    data = data.copy()\n",
    "    data = drop_one_student_course(data)\n",
    "    data[\"total\"] = 1\n",
    "    term_dfs = []\n",
    "    for term in terms:\n",
    "        print(term)\n",
    "        adj_term,stud_ids,course_ids = stud_by_course_matrix(data.loc[data[\"term_code\"]==term])\n",
    "        stud_ids = np.array(stud_ids)\n",
    "        # student by student matrix\n",
    "        adj_stud = (adj_term @ adj_term.T).A\n",
    "        np.fill_diagonal(adj_stud,0)\n",
    "        adj_stud_sorted = adj_stud.argsort(axis=1)\n",
    "\n",
    "        # The loop saves student ids of k neighbors in dataframe for each term and k\n",
    "        df_term = pd.DataFrame({\"term_code\":term,\"mellon_id\":stud_ids})\n",
    "        for k in knn_lst:\n",
    "            k_ids = adj_stud_sorted[:,-k:]\n",
    "            k_stud_ids = stud_ids[k_ids]\n",
    "            df_term[\"term_nn_\"+str(k)] = np.where(np.take_along_axis(adj_stud, k_ids, axis=1) > 0,k_stud_ids,0).tolist()\n",
    "\n",
    "        term_dfs.append(df_term)\n",
    "\n",
    "    return pd.concat(term_dfs,axis=0).reset_index(drop=True)\n",
    "\n",
    "def remove_empty_lists(df_knn):\n",
    "    df_knn[\"sum\"] = df_knn.iloc[:,2:].sum(axis=1).apply(lambda x: sum(x))\n",
    "    df_knn = df_knn.loc[df_knn[\"sum\"] !=0].reset_index(drop=True)\n",
    "    return df_knn.drop(\"sum\",axis=1)"
   ]
  },
  {
   "cell_type": "code",
   "execution_count": 4,
   "metadata": {},
   "outputs": [
    {
     "name": "stdout",
     "output_type": "stream",
     "text": [
      "2016\n",
      "Average number of courses: 17.032705039615063\n",
      "Shape of Adjacency matrix: (27641, 13131)\n",
      "2017\n",
      "Average number of courses: 16.940737489025462\n",
      "Shape of Adjacency matrix: (29614, 13650)\n",
      "2018\n",
      "Average number of courses: 11.810823674337868\n",
      "Shape of Adjacency matrix: (35718, 12577)\n",
      "2019\n",
      "Average number of courses: 10.33518618456557\n",
      "Shape of Adjacency matrix: (37060, 11924)\n",
      "2020\n",
      "Average number of courses: 10.135731242753824\n",
      "Shape of Adjacency matrix: (36226, 11743)\n"
     ]
    }
   ],
   "source": [
    "knn_lst = [2,4,8,16]\n",
    "df_year = generate_knn_year(df1,knn_lst=knn_lst,years=np.arange(2016,2021))"
   ]
  },
  {
   "cell_type": "code",
   "execution_count": 7,
   "metadata": {},
   "outputs": [],
   "source": [
    "df_year = remove_empty_lists(df_year)\n",
    "df_year.to_pickle(\"../Data/KNN/KNN_YEAR_201192+.pkl\")"
   ]
  },
  {
   "cell_type": "code",
   "execution_count": 27,
   "metadata": {},
   "outputs": [
    {
     "name": "stdout",
     "output_type": "stream",
     "text": [
      "201692\n",
      "Average number of courses: 6.046097452606635\n",
      "Shape of Adjacency matrix: (27008, 4393)\n",
      "201703\n",
      "Average number of courses: 5.9737250009451435\n",
      "Shape of Adjacency matrix: (26451, 4455)\n",
      "201714\n",
      "Average number of courses: 5.890578825012806\n",
      "Shape of Adjacency matrix: (25379, 4283)\n",
      "201792\n",
      "Average number of courses: 5.970844677258159\n",
      "Shape of Adjacency matrix: (29017, 4571)\n",
      "201803\n",
      "Average number of courses: 5.952567772947372\n",
      "Shape of Adjacency matrix: (28293, 4624)\n",
      "201814\n",
      "Average number of courses: 5.896197214238337\n",
      "Shape of Adjacency matrix: (27138, 4455)\n",
      "201892\n",
      "Average number of courses: 6.0024809679173465\n",
      "Shape of Adjacency matrix: (29424, 4484)\n",
      "201903\n",
      "Average number of courses: 3.7151805669921187\n",
      "Shape of Adjacency matrix: (34004, 4076)\n",
      "201914\n",
      "Average number of courses: 3.645340282035561\n",
      "Shape of Adjacency matrix: (32620, 4017)\n",
      "201992\n",
      "Average number of courses: 3.67666173886363\n",
      "Shape of Adjacency matrix: (35851, 3929)\n",
      "202003\n",
      "Average number of courses: 3.734336777275736\n",
      "Shape of Adjacency matrix: (34747, 4103)\n",
      "202014\n",
      "Average number of courses: 3.6473467671701854\n",
      "Shape of Adjacency matrix: (33299, 3892)\n",
      "202092\n",
      "Average number of courses: 3.6810954563458385\n",
      "Shape of Adjacency matrix: (35346, 3916)\n",
      "202103\n",
      "Average number of courses: 3.666169717931898\n",
      "Shape of Adjacency matrix: (33538, 3962)\n",
      "202114\n",
      "Average number of courses: 3.5860779384035197\n",
      "Shape of Adjacency matrix: (31820, 3865)\n"
     ]
    }
   ],
   "source": [
    "knn_lst = [2,4,8,16]\n",
    "terms = np.array([201600,201700,201800,201900,202000])\n",
    "terms = np.sort(np.concatenate([terms+92, terms+103 , terms+114]))\n",
    "df_term = generate_knn_term(df1,knn_lst,terms)"
   ]
  },
  {
   "cell_type": "code",
   "execution_count": 29,
   "metadata": {},
   "outputs": [],
   "source": [
    "df_term = remove_empty_lists(df_term)\n",
    "df_term.to_pickle(\"../Data/KNN/KNN_TERM_201192+.pkl\")"
   ]
  }
 ],
 "metadata": {
  "kernelspec": {
   "display_name": "SNN_UCI",
   "language": "python",
   "name": "python3"
  },
  "language_info": {
   "codemirror_mode": {
    "name": "ipython",
    "version": 3
   },
   "file_extension": ".py",
   "mimetype": "text/x-python",
   "name": "python",
   "nbconvert_exporter": "python",
   "pygments_lexer": "ipython3",
   "version": "3.10.11"
  }
 },
 "nbformat": 4,
 "nbformat_minor": 2
}
